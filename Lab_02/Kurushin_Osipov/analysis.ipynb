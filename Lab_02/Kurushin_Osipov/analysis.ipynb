{
 "cells": [
  {
   "cell_type": "code",
   "execution_count": 1,
   "metadata": {},
   "outputs": [],
   "source": [
    "import pandas as pd"
   ]
  },
  {
   "cell_type": "code",
   "execution_count": 16,
   "metadata": {},
   "outputs": [
    {
     "name": "stdout",
     "output_type": "stream",
     "text": [
      "Detail Change.csv            Detail Incident.csv\n",
      "Detail Incident Activity.csv Detail Interaction.csv\n"
     ]
    }
   ],
   "source": [
    "!ls data"
   ]
  },
  {
   "cell_type": "code",
   "execution_count": 43,
   "metadata": {},
   "outputs": [],
   "source": [
    "path = \"data/\"\n",
    "change = pd.read_csv(path+\"Detail Change.csv\", sep=\";+\", engine='python')\n",
    "incident_activity = pd.read_csv(path+\"Detail Incident Activity.csv\", sep=\";+\", engine='python')\n",
    "incident = pd.read_csv(path+\"Detail Incident.csv\", sep=\";+\", engine='python')\n",
    "interaction = pd.read_csv(path+\"Detail Interaction.csv\", sep=\";+\", engine='python')"
   ]
  },
  {
   "cell_type": "code",
   "execution_count": 44,
   "metadata": {},
   "outputs": [
    {
     "data": {
      "text/plain": [
       "array([nan])"
      ]
     },
     "execution_count": 44,
     "metadata": {},
     "output_type": "execute_result"
    }
   ],
   "source": [
    "incident[\"Unnamed: 28\"].unique()"
   ]
  },
  {
   "cell_type": "code",
   "execution_count": 38,
   "metadata": {},
   "outputs": [
    {
     "name": "stdout",
     "output_type": "stream",
     "text": [
      "CI Name (aff);CI Type (aff);CI Subtype (aff);Service Component WBS (aff);Incident ID;Status;Impact;Urgency;Priority;Category;KM number;Alert Status;# Reassignments;Open Time;Reopen Time;Resolved Time;Close Time;Handle Time (Hours);Closure Code;# Related Interactions;Related Interaction;# Related Incidents;# Related Changes;Related Change;CI Name (CBy);CI Type (CBy);CI Subtype (CBy);ServiceComp WBS (CBy);;;;;;;;;;;;;;;;;;;;;;;;;;;;;;;;;;;;;;;;;;;;;;;;;;\n",
      "SUB000508;subapplication;Web Based Application;WBS000162;IM0000004;Closed;4;4;4;incident;KM0000553;closed;26;05/02/2012 13:32:57;;04/11/2013 13:50:27;04/11/2013 13:51:17;3871,691111;Other;1;SD0000007;2;;;SUB000508;subapplication;Web Based Application;WBS000162;;;;;;;;;;;;;;;;;;;;;;;;;;;;;;;;;;;;;;;;;;;;;;;;;;\n",
      "WBA000124;application;Web Based Application;WBS000088;IM0000005;Closed;3;3;3;incident;KM0000611;closed;33;12/03/2012 15:44:24;02/12/2013 12:31:02;02/12/2013 12:36:21;02/12/2013 12:36:25;4354,786389;Software;1;SD0000011;1;;;WBA000124;application;Web Based Application;WBS000088;;;;;;;;;;;;;;;;;;;;;;;;;;;;;;;;;;;;;;;;;;;;;;;;;;\n",
      "DTA000024;application;Desktop Application;WBS000092;IM0000006;Closed;3;3;3;request for information;KM0000339;closed;3;29/03/2012 12:36:01;;13/01/2014 15:12:38;13/01/2014 15:13:11;4843,119444;No error - works as designed;1;SD0000017;;;;DTA000024;application;Desktop Application;WBS000092;;;;;;;;;;;;;;;;;;;;;;;;;;;;;;;;;;;;;;;;;;;;;;;;;;\n",
      "WBA000124;application;Web Based Application;WBS000088;IM0000011;Closed;4;4;4;incident;KM0000611;closed;13;17/07/2012 11:49:00;;14/11/2013 09:31:09;14/11/2013 09:31:24;43,21833333;Operator error;1;SD0000025;;;;WBA000124;application;Web Based Application;WBS000088;;;;;;;;;;;;;;;;;;;;;;;;;;;;;;;;;;;;;;;;;;;;;;;;;;\n",
      "WBA000124;application;Web Based Application;WBS000088;IM0000012;Closed;4;4;4;incident;KM0000611;closed;2;10/08/2012 11:01:40;;08/11/2013 13:55:49;08/11/2013 13:55:52;3383,903333;Other;1;SD0000029;;;;SUB000508;subapplication;Web Based Application;WBS000162;;;;;;;;;;;;;;;;;;;;;;;;;;;;;;;;;;;;;;;;;;;;;;;;;;\n",
      "WBA000124;application;Web Based Application;WBS000088;IM0000013;Closed;4;4;4;incident;KM0000611;closed;4;10/08/2012 11:27:59;;08/11/2013 13:54:07;08/11/2013 13:54:12;3383,436944;Other;1;SD0000031;;;;SUB000508;subapplication;Web Based Application;WBS000162;;;;;;;;;;;;;;;;;;;;;;;;;;;;;;;;;;;;;;;;;;;;;;;;;;\n",
      "WBA000082;application;Web Based Application;WBS000055;IM0000014;Closed;4;4;4;incident;KM0000401;closed;2;15/08/2012 14:17:55;;27/12/2013 10:59:28;27/12/2013 10:59:32;3703,191389;Unknown;1;SD0000033;;;;WBA000082;application;Web Based Application;WBS000055;;;;;;;;;;;;;;;;;;;;;;;;;;;;;;;;;;;;;;;;;;;;;;;;;;\n",
      "WBA000124;application;Web Based Application;WBS000088;IM0000015;Closed;4;4;4;incident;KM0000611;closed;5;22/08/2012 16:31:42;;08/11/2013 14:09:05;08/11/2013 14:09:09;3294,624167;Other;1;SD0000034;;;;WBA000124;application;Web Based Application;WBS000088;;;;;;;;;;;;;;;;;;;;;;;;;;;;;;;;;;;;;;;;;;;;;;;;;;\n",
      "WBA000124;application;Web Based Application;WBS000088;IM0000017;Closed;3;3;3;incident;KM0000611;closed;2;29/08/2012 15:59:14;;08/11/2013 14:02:06;08/11/2013 14:02:20;0,862777778;Other;1;SD0000036;;;;#N/B;#N/B;#N/B;#N/B;;;;;;;;;;;;;;;;;;;;;;;;;;;;;;;;;;;;;;;;;;;;;;;;;;\n"
     ]
    }
   ],
   "source": [
    "!head -n 10 data/Detail\\ Incident.csv"
   ]
  },
  {
   "cell_type": "code",
   "execution_count": null,
   "metadata": {},
   "outputs": [],
   "source": []
  }
 ],
 "metadata": {
  "kernelspec": {
   "display_name": "laboratory-work-env",
   "language": "python",
   "name": "python3"
  },
  "language_info": {
   "codemirror_mode": {
    "name": "ipython",
    "version": 3
   },
   "file_extension": ".py",
   "mimetype": "text/x-python",
   "name": "python",
   "nbconvert_exporter": "python",
   "pygments_lexer": "ipython3",
   "version": "3.10.4"
  },
  "orig_nbformat": 4
 },
 "nbformat": 4,
 "nbformat_minor": 2
}
